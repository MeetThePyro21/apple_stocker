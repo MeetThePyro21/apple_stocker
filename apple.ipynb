{
 "cells": [
  {
   "cell_type": "code",
   "execution_count": 1,
   "id": "42ec911d",
   "metadata": {},
   "outputs": [],
   "source": [
    "import session_info\n",
    "import numpy as np\n",
    "import matplotlib.pyplot as plt\n",
    "import pandas as pd"
   ]
  },
  {
   "cell_type": "code",
   "execution_count": 2,
   "id": "0998e650",
   "metadata": {},
   "outputs": [
    {
     "data": {
      "text/html": [
       "<details>\n",
       "<summary>Click to view session information</summary>\n",
       "<pre>\n",
       "-----\n",
       "matplotlib          3.3.4\n",
       "numpy               1.19.5\n",
       "pandas              1.2.4\n",
       "session_info        1.0.0\n",
       "-----\n",
       "</pre>\n",
       "<details>\n",
       "<summary>Click to view modules imported as dependencies</summary>\n",
       "<pre>\n",
       "PIL                 8.2.0\n",
       "anyio               NA\n",
       "attr                20.3.0\n",
       "babel               2.9.0\n",
       "backcall            0.2.0\n",
       "bottleneck          1.3.2\n",
       "brotli              NA\n",
       "certifi             2021.05.30\n",
       "cffi                1.14.5\n",
       "chardet             4.0.0\n",
       "colorama            0.4.4\n",
       "cycler              0.10.0\n",
       "cython_runtime      NA\n",
       "dateutil            2.8.1\n",
       "decorator           5.0.9\n",
       "google              NA\n",
       "idna                2.10\n",
       "ipykernel           5.3.4\n",
       "ipython_genutils    0.2.0\n",
       "jedi                0.17.2\n",
       "jinja2              2.11.3\n",
       "json5               NA\n",
       "jsonschema          3.2.0\n",
       "jupyter_server      1.4.1\n",
       "jupyterlab_server   2.4.0\n",
       "kiwisolver          1.3.1\n",
       "markupsafe          1.1.1\n",
       "mpl_toolkits        NA\n",
       "nbclassic           NA\n",
       "nbformat            5.1.3\n",
       "nt                  NA\n",
       "ntsecuritycon       NA\n",
       "packaging           20.9\n",
       "parso               0.7.0\n",
       "paste               NA\n",
       "pickleshare         0.7.5\n",
       "pkg_resources       NA\n",
       "prometheus_client   NA\n",
       "prompt_toolkit      3.0.17\n",
       "pvectorc            NA\n",
       "pygments            2.8.1\n",
       "pyparsing           2.4.7\n",
       "pyrsistent          NA\n",
       "pythoncom           NA\n",
       "pytz                2021.1\n",
       "pywintypes          NA\n",
       "requests            2.25.1\n",
       "send2trash          NA\n",
       "six                 1.15.0\n",
       "sniffio             1.2.0\n",
       "socks               1.7.1\n",
       "sphinxcontrib       NA\n",
       "storemagic          NA\n",
       "tornado             6.1\n",
       "traitlets           5.0.5\n",
       "urllib3             1.26.4\n",
       "wcwidth             0.2.5\n",
       "win32api            NA\n",
       "win32com            NA\n",
       "win32security       NA\n",
       "zmq                 20.0.0\n",
       "zope                NA\n",
       "</pre>\n",
       "</details> <!-- seems like this ends pre, so might as well be explicit -->\n",
       "<pre>\n",
       "-----\n",
       "IPython             7.22.0\n",
       "jupyter_client      6.1.12\n",
       "jupyter_core        4.7.1\n",
       "jupyterlab          3.0.14\n",
       "notebook            6.3.0\n",
       "-----\n",
       "Python 3.8.8 (default, Apr 13 2021, 15:08:03) [MSC v.1916 64 bit (AMD64)]\n",
       "Windows-10-10.0.19041-SP0\n",
       "-----\n",
       "Session information updated at 2021-09-20 18:35\n",
       "</pre>\n",
       "</details>"
      ],
      "text/plain": [
       "<IPython.core.display.HTML object>"
      ]
     },
     "execution_count": 2,
     "metadata": {},
     "output_type": "execute_result"
    }
   ],
   "source": [
    "session_info.show()"
   ]
  },
  {
   "cell_type": "raw",
   "id": "b520421d",
   "metadata": {},
   "source": [
    "open (цена открытия в текущем таймфрейме)\n",
    "high (максимальная цена)\n",
    "low (минимальная цена)\n",
    "close (цена закрытия)\n",
    "volume (объем сделок данного актива)."
   ]
  },
  {
   "cell_type": "code",
   "execution_count": 4,
   "id": "878fbad8",
   "metadata": {},
   "outputs": [
    {
     "name": "stderr",
     "output_type": "stream",
     "text": [
      "NumExpr defaulting to 8 threads.\n"
     ]
    },
    {
     "data": {
      "text/html": [
       "<div>\n",
       "<style scoped>\n",
       "    .dataframe tbody tr th:only-of-type {\n",
       "        vertical-align: middle;\n",
       "    }\n",
       "\n",
       "    .dataframe tbody tr th {\n",
       "        vertical-align: top;\n",
       "    }\n",
       "\n",
       "    .dataframe thead th {\n",
       "        text-align: right;\n",
       "    }\n",
       "</style>\n",
       "<table border=\"1\" class=\"dataframe\">\n",
       "  <thead>\n",
       "    <tr style=\"text-align: right;\">\n",
       "      <th></th>\n",
       "      <th>&lt;DATE&gt;</th>\n",
       "      <th>mid_prices</th>\n",
       "      <th>&lt;OPEN&gt;</th>\n",
       "      <th>&lt;HIGH&gt;</th>\n",
       "      <th>&lt;LOW&gt;</th>\n",
       "      <th>&lt;CLOSE&gt;</th>\n",
       "      <th>&lt;VOL&gt;</th>\n",
       "    </tr>\n",
       "  </thead>\n",
       "  <tbody>\n",
       "    <tr>\n",
       "      <th>2012</th>\n",
       "      <td>2018-06-28</td>\n",
       "      <td>185.0050</td>\n",
       "      <td>184.09</td>\n",
       "      <td>186.21</td>\n",
       "      <td>183.800</td>\n",
       "      <td>185.51</td>\n",
       "      <td>13.516.379</td>\n",
       "    </tr>\n",
       "    <tr>\n",
       "      <th>2223</th>\n",
       "      <td>2019-05-02</td>\n",
       "      <td>210.3900</td>\n",
       "      <td>209.95</td>\n",
       "      <td>212.65</td>\n",
       "      <td>208.130</td>\n",
       "      <td>209.17</td>\n",
       "      <td>25.053.023</td>\n",
       "    </tr>\n",
       "    <tr>\n",
       "      <th>1095</th>\n",
       "      <td>2014-11-05</td>\n",
       "      <td>108.7125</td>\n",
       "      <td>109.13</td>\n",
       "      <td>109.30</td>\n",
       "      <td>108.125</td>\n",
       "      <td>108.86</td>\n",
       "      <td>28.900.656</td>\n",
       "    </tr>\n",
       "    <tr>\n",
       "      <th>2095</th>\n",
       "      <td>2018-10-25</td>\n",
       "      <td>219.0650</td>\n",
       "      <td>217.70</td>\n",
       "      <td>221.38</td>\n",
       "      <td>216.750</td>\n",
       "      <td>219.85</td>\n",
       "      <td>19.816.414</td>\n",
       "    </tr>\n",
       "    <tr>\n",
       "      <th>1492</th>\n",
       "      <td>2016-06-06</td>\n",
       "      <td>99.7200</td>\n",
       "      <td>97.99</td>\n",
       "      <td>101.89</td>\n",
       "      <td>97.550</td>\n",
       "      <td>98.63</td>\n",
       "      <td>20.113.927</td>\n",
       "    </tr>\n",
       "    <tr>\n",
       "      <th>1935</th>\n",
       "      <td>2018-03-09</td>\n",
       "      <td>178.6950</td>\n",
       "      <td>177.96</td>\n",
       "      <td>180.00</td>\n",
       "      <td>177.390</td>\n",
       "      <td>179.96</td>\n",
       "      <td>25.340.139</td>\n",
       "    </tr>\n",
       "    <tr>\n",
       "      <th>2487</th>\n",
       "      <td>2020-05-21</td>\n",
       "      <td>318.3800</td>\n",
       "      <td>318.67</td>\n",
       "      <td>320.89</td>\n",
       "      <td>315.870</td>\n",
       "      <td>316.80</td>\n",
       "      <td>2.403.270</td>\n",
       "    </tr>\n",
       "    <tr>\n",
       "      <th>2054</th>\n",
       "      <td>2018-08-28</td>\n",
       "      <td>219.7300</td>\n",
       "      <td>219.01</td>\n",
       "      <td>220.54</td>\n",
       "      <td>218.920</td>\n",
       "      <td>219.71</td>\n",
       "      <td>18.420.745</td>\n",
       "    </tr>\n",
       "    <tr>\n",
       "      <th>819</th>\n",
       "      <td>2013-10-02</td>\n",
       "      <td>487.7750</td>\n",
       "      <td>485.63</td>\n",
       "      <td>491.80</td>\n",
       "      <td>483.750</td>\n",
       "      <td>489.56</td>\n",
       "      <td>9.064.573</td>\n",
       "    </tr>\n",
       "    <tr>\n",
       "      <th>2045</th>\n",
       "      <td>2018-08-15</td>\n",
       "      <td>209.5350</td>\n",
       "      <td>209.20</td>\n",
       "      <td>210.74</td>\n",
       "      <td>208.330</td>\n",
       "      <td>210.30</td>\n",
       "      <td>22.423.860</td>\n",
       "    </tr>\n",
       "  </tbody>\n",
       "</table>\n",
       "</div>"
      ],
      "text/plain": [
       "         <DATE>  mid_prices  <OPEN>  <HIGH>    <LOW>  <CLOSE>       <VOL>\n",
       "2012 2018-06-28    185.0050  184.09  186.21  183.800   185.51  13.516.379\n",
       "2223 2019-05-02    210.3900  209.95  212.65  208.130   209.17  25.053.023\n",
       "1095 2014-11-05    108.7125  109.13  109.30  108.125   108.86  28.900.656\n",
       "2095 2018-10-25    219.0650  217.70  221.38  216.750   219.85  19.816.414\n",
       "1492 2016-06-06     99.7200   97.99  101.89   97.550    98.63  20.113.927\n",
       "1935 2018-03-09    178.6950  177.96  180.00  177.390   179.96  25.340.139\n",
       "2487 2020-05-21    318.3800  318.67  320.89  315.870   316.80   2.403.270\n",
       "2054 2018-08-28    219.7300  219.01  220.54  218.920   219.71  18.420.745\n",
       "819  2013-10-02    487.7750  485.63  491.80  483.750   489.56   9.064.573\n",
       "2045 2018-08-15    209.5350  209.20  210.74  208.330   210.30  22.423.860"
      ]
     },
     "execution_count": 4,
     "metadata": {},
     "output_type": "execute_result"
    }
   ],
   "source": [
    "df_train = pd.read_csv('C:/Users/User/Downloads/train.csv', sep=';')\n",
    "df_train['<DATE>'] = pd.to_datetime(df_train['<DATE>'], format='%y%m%d')\n",
    "df_train['mid_prices'] = (df_train['<HIGH>'] + df_train['<LOW>']) / 2.0\n",
    "df_train = df_train[['<DATE>', 'mid_prices', '<OPEN>', '<HIGH>', '<LOW>', '<CLOSE>', '<VOL>']]\n",
    "df_train.sample(10)"
   ]
  },
  {
   "cell_type": "code",
   "execution_count": 5,
   "id": "1e606d11",
   "metadata": {},
   "outputs": [
    {
     "data": {
      "text/plain": [
       "array([[249.01 ],\n",
       "       [247.065],\n",
       "       [249.48 ],\n",
       "       ...,\n",
       "       [362.99 ],\n",
       "       [365.635],\n",
       "       [367.095]])"
      ]
     },
     "execution_count": 5,
     "metadata": {},
     "output_type": "execute_result"
    }
   ],
   "source": [
    "train_processed = df_train.iloc[:, 1:2].values\n",
    "train_processed"
   ]
  },
  {
   "cell_type": "code",
   "execution_count": 6,
   "id": "53a8b7c0",
   "metadata": {},
   "outputs": [
    {
     "data": {
      "text/plain": [
       "(2517, 1)"
      ]
     },
     "execution_count": 6,
     "metadata": {},
     "output_type": "execute_result"
    }
   ],
   "source": [
    "train_processed.shape"
   ]
  },
  {
   "cell_type": "raw",
   "id": "4d515abc",
   "metadata": {},
   "source": [
    "нормализация с помощью MinMaxScaler"
   ]
  },
  {
   "cell_type": "code",
   "execution_count": 7,
   "id": "96137fa1",
   "metadata": {},
   "outputs": [],
   "source": [
    "from sklearn.preprocessing import MinMaxScaler\n",
    "scaler = MinMaxScaler(feature_range = (0, 1))\n",
    "\n",
    "train_scaled = scaler.fit_transform(train_processed)"
   ]
  },
  {
   "cell_type": "code",
   "execution_count": 8,
   "id": "658f9bba",
   "metadata": {},
   "outputs": [
    {
     "data": {
      "text/plain": [
       "array([[0.25951699],\n",
       "       [0.2563391 ],\n",
       "       [0.26028491],\n",
       "       ...,\n",
       "       [0.44574639],\n",
       "       [0.450068  ],\n",
       "       [0.45245346]])"
      ]
     },
     "execution_count": 8,
     "metadata": {},
     "output_type": "execute_result"
    }
   ],
   "source": [
    "train_scaled"
   ]
  },
  {
   "cell_type": "raw",
   "id": "17469415",
   "metadata": {},
   "source": [
    "в задачах временного ряда мы должны предсказать значение в момент времени T, основываясь на данных из дней T-N, где N может быть любым числом шагов.\n",
    "Попробуем за последние 30(60) дней"
   ]
  },
  {
   "cell_type": "raw",
   "id": "700042d1",
   "metadata": {},
   "source": [
    "feature_set - данные за 60 дней\n",
    "labels - 60+"
   ]
  },
  {
   "cell_type": "code",
   "execution_count": 9,
   "id": "d1516246",
   "metadata": {},
   "outputs": [],
   "source": [
    "features_set = []\n",
    "labels = []\n",
    "for i in range(60, len(train_processed)):\n",
    "    features_set.append(train_scaled[i-60:i, 0])\n",
    "    labels.append(train_scaled[i, 0])"
   ]
  },
  {
   "cell_type": "raw",
   "id": "851fe13b",
   "metadata": {},
   "source": [
    "feature_set и labels переводим в массив numpy"
   ]
  },
  {
   "cell_type": "code",
   "execution_count": 10,
   "id": "96205b23",
   "metadata": {},
   "outputs": [],
   "source": [
    "features_set, labels = np.array(features_set), np.array(labels)"
   ]
  },
  {
   "cell_type": "raw",
   "id": "6fda9390",
   "metadata": {},
   "source": [
    "преобразуем в форму для LSTM (трехмерный формат)"
   ]
  },
  {
   "cell_type": "code",
   "execution_count": 11,
   "id": "eb6ab201",
   "metadata": {},
   "outputs": [],
   "source": [
    "features_set = np.reshape(features_set, (features_set.shape[0], features_set.shape[1], 1))"
   ]
  },
  {
   "cell_type": "code",
   "execution_count": 12,
   "id": "9ef2c685",
   "metadata": {},
   "outputs": [
    {
     "data": {
      "text/plain": [
       "(2457, 60, 1)"
      ]
     },
     "execution_count": 12,
     "metadata": {},
     "output_type": "execute_result"
    }
   ],
   "source": [
    "features_set.shape"
   ]
  },
  {
   "cell_type": "code",
   "execution_count": 13,
   "id": "857cf3a0",
   "metadata": {},
   "outputs": [],
   "source": [
    "from keras.models import Sequential\n",
    "from keras.layers import Dense\n",
    "from keras.layers import LSTM\n",
    "from keras.layers import Dropout"
   ]
  },
  {
   "cell_type": "raw",
   "id": "c2a09f3f",
   "metadata": {},
   "source": [
    "экземпляр класса Sequential"
   ]
  },
  {
   "cell_type": "code",
   "execution_count": 14,
   "id": "a266f186",
   "metadata": {},
   "outputs": [],
   "source": [
    "model = Sequential()"
   ]
  },
  {
   "cell_type": "raw",
   "id": "4b986eaf",
   "metadata": {},
   "source": [
    "слой LSTM"
   ]
  },
  {
   "cell_type": "code",
   "execution_count": 15,
   "id": "6d3220ab",
   "metadata": {},
   "outputs": [],
   "source": [
    "model.add(LSTM(units=50, return_sequences=True, input_shape=(features_set.shape[1], 1)))"
   ]
  },
  {
   "cell_type": "raw",
   "id": "3d4180f8",
   "metadata": {},
   "source": [
    "чтобы избежать переобучения добавим Dropout"
   ]
  },
  {
   "cell_type": "code",
   "execution_count": 16,
   "id": "c4bb6c06",
   "metadata": {},
   "outputs": [],
   "source": [
    "model.add(Dropout(0.2))"
   ]
  },
  {
   "cell_type": "raw",
   "id": "092a05b1",
   "metadata": {},
   "source": [
    "3 слоя LSTM и еще один Dropout"
   ]
  },
  {
   "cell_type": "code",
   "execution_count": 17,
   "id": "2623ace6",
   "metadata": {},
   "outputs": [],
   "source": [
    "model.add(LSTM(units=50, return_sequences=True))\n",
    "model.add(Dropout(0.2))\n",
    "\n",
    "model.add(LSTM(units=50, return_sequences=True))\n",
    "model.add(Dropout(0.2))\n",
    "\n",
    "model.add(LSTM(units=50))\n",
    "model.add(Dropout(0.2))"
   ]
  },
  {
   "cell_type": "raw",
   "id": "17c78593",
   "metadata": {},
   "source": [
    "слой Dense, units = 1, тк предсказываем 1 значение на выходе"
   ]
  },
  {
   "cell_type": "code",
   "execution_count": 18,
   "id": "382ecfe6",
   "metadata": {},
   "outputs": [],
   "source": [
    "model.add(Dense(units = 1))"
   ]
  },
  {
   "cell_type": "raw",
   "id": "d59584dd",
   "metadata": {},
   "source": [
    "компиляция модели\n",
    "функция потерь - mean_squared_error\n",
    "optimizer - adam"
   ]
  },
  {
   "cell_type": "code",
   "execution_count": 19,
   "id": "0f72185e",
   "metadata": {},
   "outputs": [],
   "source": [
    "model.compile(optimizer = 'adam', loss = 'mean_squared_error')"
   ]
  },
  {
   "cell_type": "raw",
   "id": "37ae9f28",
   "metadata": {},
   "source": [
    "обучение, 60 эпох"
   ]
  },
  {
   "cell_type": "code",
   "execution_count": 20,
   "id": "6c8072c1",
   "metadata": {
    "scrolled": true
   },
   "outputs": [
    {
     "name": "stdout",
     "output_type": "stream",
     "text": [
      "Epoch 1/60\n",
      "77/77 [==============================] - 24s 62ms/step - loss: 0.0421\n",
      "Epoch 2/60\n",
      "77/77 [==============================] - 5s 67ms/step - loss: 0.0076\n",
      "Epoch 3/60\n",
      "77/77 [==============================] - 5s 69ms/step - loss: 0.0052\n",
      "Epoch 4/60\n",
      "77/77 [==============================] - 6s 75ms/step - loss: 0.0069\n",
      "Epoch 5/60\n",
      "77/77 [==============================] - 5s 69ms/step - loss: 0.0044\n",
      "Epoch 6/60\n",
      "77/77 [==============================] - 5s 68ms/step - loss: 0.0038\n",
      "Epoch 7/60\n",
      "77/77 [==============================] - 6s 75ms/step - loss: 0.0039\n",
      "Epoch 8/60\n",
      "77/77 [==============================] - 6s 75ms/step - loss: 0.0039\n",
      "Epoch 9/60\n",
      "77/77 [==============================] - 6s 73ms/step - loss: 0.0038\n",
      "Epoch 10/60\n",
      "77/77 [==============================] - 6s 72ms/step - loss: 0.0037\n",
      "Epoch 11/60\n",
      "77/77 [==============================] - 5s 68ms/step - loss: 0.0028\n",
      "Epoch 12/60\n",
      "77/77 [==============================] - 5s 71ms/step - loss: 0.0045\n",
      "Epoch 13/60\n",
      "77/77 [==============================] - 5s 71ms/step - loss: 0.0033\n",
      "Epoch 14/60\n",
      "77/77 [==============================] - 5s 67ms/step - loss: 0.0028\n",
      "Epoch 15/60\n",
      "77/77 [==============================] - 5s 69ms/step - loss: 0.0027\n",
      "Epoch 16/60\n",
      "77/77 [==============================] - 5s 70ms/step - loss: 0.0025\n",
      "Epoch 17/60\n",
      "77/77 [==============================] - 6s 78ms/step - loss: 0.0025\n",
      "Epoch 18/60\n",
      "77/77 [==============================] - 5s 71ms/step - loss: 0.0019\n",
      "Epoch 19/60\n",
      "77/77 [==============================] - 5s 67ms/step - loss: 0.0022\n",
      "Epoch 20/60\n",
      "77/77 [==============================] - 5s 66ms/step - loss: 0.0026\n",
      "Epoch 21/60\n",
      "77/77 [==============================] - 5s 71ms/step - loss: 0.0025\n",
      "Epoch 22/60\n",
      "77/77 [==============================] - 5s 70ms/step - loss: 0.0019\n",
      "Epoch 23/60\n",
      "77/77 [==============================] - 5s 71ms/step - loss: 0.0018\n",
      "Epoch 24/60\n",
      "77/77 [==============================] - 6s 74ms/step - loss: 0.0016\n",
      "Epoch 25/60\n",
      "77/77 [==============================] - 5s 69ms/step - loss: 0.0023\n",
      "Epoch 26/60\n",
      "77/77 [==============================] - 5s 71ms/step - loss: 0.0022\n",
      "Epoch 27/60\n",
      "77/77 [==============================] - 6s 74ms/step - loss: 0.0014\n",
      "Epoch 28/60\n",
      "77/77 [==============================] - 5s 66ms/step - loss: 0.0018\n",
      "Epoch 29/60\n",
      "77/77 [==============================] - 5s 69ms/step - loss: 0.0022\n",
      "Epoch 30/60\n",
      "77/77 [==============================] - 6s 75ms/step - loss: 0.0016\n",
      "Epoch 31/60\n",
      "77/77 [==============================] - 6s 72ms/step - loss: 0.0018\n",
      "Epoch 32/60\n",
      "77/77 [==============================] - 6s 80ms/step - loss: 0.0019\n",
      "Epoch 33/60\n",
      "77/77 [==============================] - 6s 80ms/step - loss: 0.0021\n",
      "Epoch 34/60\n",
      "77/77 [==============================] - 5s 66ms/step - loss: 0.0013\n",
      "Epoch 35/60\n",
      "77/77 [==============================] - 5s 68ms/step - loss: 0.0015\n",
      "Epoch 36/60\n",
      "77/77 [==============================] - 6s 73ms/step - loss: 0.0013\n",
      "Epoch 37/60\n",
      "77/77 [==============================] - 5s 67ms/step - loss: 0.0013\n",
      "Epoch 38/60\n",
      "77/77 [==============================] - 5s 66ms/step - loss: 0.0013\n",
      "Epoch 39/60\n",
      "77/77 [==============================] - 6s 77ms/step - loss: 0.0016\n",
      "Epoch 40/60\n",
      "77/77 [==============================] - 5s 69ms/step - loss: 0.0013\n",
      "Epoch 41/60\n",
      "77/77 [==============================] - 6s 71ms/step - loss: 0.0013\n",
      "Epoch 42/60\n",
      "77/77 [==============================] - 5s 70ms/step - loss: 0.0013\n",
      "Epoch 43/60\n",
      "77/77 [==============================] - 5s 66ms/step - loss: 0.0014\n",
      "Epoch 44/60\n",
      "77/77 [==============================] - 5s 67ms/step - loss: 0.0014\n",
      "Epoch 45/60\n",
      "77/77 [==============================] - 6s 71ms/step - loss: 0.0012\n",
      "Epoch 46/60\n",
      "77/77 [==============================] - 5s 68ms/step - loss: 0.0014\n",
      "Epoch 47/60\n",
      "77/77 [==============================] - 5s 69ms/step - loss: 0.0012\n",
      "Epoch 48/60\n",
      "77/77 [==============================] - 5s 71ms/step - loss: 0.0011\n",
      "Epoch 49/60\n",
      "77/77 [==============================] - 5s 70ms/step - loss: 0.0010\n",
      "Epoch 50/60\n",
      "77/77 [==============================] - 6s 74ms/step - loss: 0.0013\n",
      "Epoch 51/60\n",
      "77/77 [==============================] - 5s 69ms/step - loss: 0.0012\n",
      "Epoch 52/60\n",
      "77/77 [==============================] - 5s 67ms/step - loss: 0.0010\n",
      "Epoch 53/60\n",
      "77/77 [==============================] - 5s 68ms/step - loss: 0.0013\n",
      "Epoch 54/60\n",
      "77/77 [==============================] - 6s 81ms/step - loss: 0.0010\n",
      "Epoch 55/60\n",
      "77/77 [==============================] - 6s 75ms/step - loss: 0.0017\n",
      "Epoch 56/60\n",
      "77/77 [==============================] - 6s 75ms/step - loss: 0.0020\n",
      "Epoch 57/60\n",
      "77/77 [==============================] - 6s 73ms/step - loss: 0.0018\n",
      "Epoch 58/60\n",
      "77/77 [==============================] - 5s 67ms/step - loss: 0.0010\n",
      "Epoch 59/60\n",
      "77/77 [==============================] - 5s 70ms/step - loss: 0.0014\n",
      "Epoch 60/60\n",
      "77/77 [==============================] - 5s 68ms/step - loss: 0.0013\n"
     ]
    },
    {
     "data": {
      "text/plain": [
       "<keras.callbacks.History at 0x261a8a01400>"
      ]
     },
     "execution_count": 20,
     "metadata": {},
     "output_type": "execute_result"
    }
   ],
   "source": [
    "model.fit(features_set, labels, epochs = 60, batch_size = 32)"
   ]
  },
  {
   "cell_type": "raw",
   "id": "67e9cacd",
   "metadata": {},
   "source": [
    "тестовые данные\n",
    "аналогичная работа с данными"
   ]
  },
  {
   "cell_type": "code",
   "execution_count": 21,
   "id": "824374ab",
   "metadata": {},
   "outputs": [
    {
     "data": {
      "text/html": [
       "<div>\n",
       "<style scoped>\n",
       "    .dataframe tbody tr th:only-of-type {\n",
       "        vertical-align: middle;\n",
       "    }\n",
       "\n",
       "    .dataframe tbody tr th {\n",
       "        vertical-align: top;\n",
       "    }\n",
       "\n",
       "    .dataframe thead th {\n",
       "        text-align: right;\n",
       "    }\n",
       "</style>\n",
       "<table border=\"1\" class=\"dataframe\">\n",
       "  <thead>\n",
       "    <tr style=\"text-align: right;\">\n",
       "      <th></th>\n",
       "      <th>&lt;DATE&gt;</th>\n",
       "      <th>mid_prices</th>\n",
       "      <th>&lt;OPEN&gt;</th>\n",
       "      <th>&lt;HIGH&gt;</th>\n",
       "      <th>&lt;LOW&gt;</th>\n",
       "      <th>&lt;CLOSE&gt;</th>\n",
       "      <th>&lt;VOL&gt;</th>\n",
       "    </tr>\n",
       "  </thead>\n",
       "  <tbody>\n",
       "    <tr>\n",
       "      <th>0</th>\n",
       "      <td>2020-07-02</td>\n",
       "      <td>367.095</td>\n",
       "      <td>367.76</td>\n",
       "      <td>370.46</td>\n",
       "      <td>363.73</td>\n",
       "      <td>364.12</td>\n",
       "      <td>1.567.926</td>\n",
       "    </tr>\n",
       "    <tr>\n",
       "      <th>1</th>\n",
       "      <td>2020-07-06</td>\n",
       "      <td>372.825</td>\n",
       "      <td>369.93</td>\n",
       "      <td>375.78</td>\n",
       "      <td>369.87</td>\n",
       "      <td>373.81</td>\n",
       "      <td>1.399.249</td>\n",
       "    </tr>\n",
       "    <tr>\n",
       "      <th>2</th>\n",
       "      <td>2020-07-07</td>\n",
       "      <td>375.415</td>\n",
       "      <td>375.61</td>\n",
       "      <td>378.60</td>\n",
       "      <td>372.23</td>\n",
       "      <td>372.64</td>\n",
       "      <td>1.474.101</td>\n",
       "    </tr>\n",
       "    <tr>\n",
       "      <th>3</th>\n",
       "      <td>2020-07-08</td>\n",
       "      <td>378.940</td>\n",
       "      <td>376.75</td>\n",
       "      <td>381.46</td>\n",
       "      <td>376.42</td>\n",
       "      <td>381.29</td>\n",
       "      <td>1.484.935</td>\n",
       "    </tr>\n",
       "    <tr>\n",
       "      <th>4</th>\n",
       "      <td>2020-07-09</td>\n",
       "      <td>381.925</td>\n",
       "      <td>385.09</td>\n",
       "      <td>385.16</td>\n",
       "      <td>378.69</td>\n",
       "      <td>382.59</td>\n",
       "      <td>1.715.059</td>\n",
       "    </tr>\n",
       "    <tr>\n",
       "      <th>...</th>\n",
       "      <td>...</td>\n",
       "      <td>...</td>\n",
       "      <td>...</td>\n",
       "      <td>...</td>\n",
       "      <td>...</td>\n",
       "      <td>...</td>\n",
       "      <td>...</td>\n",
       "    </tr>\n",
       "    <tr>\n",
       "      <th>248</th>\n",
       "      <td>2021-06-28</td>\n",
       "      <td>134.305</td>\n",
       "      <td>133.42</td>\n",
       "      <td>135.24</td>\n",
       "      <td>133.37</td>\n",
       "      <td>134.74</td>\n",
       "      <td>3.187.628</td>\n",
       "    </tr>\n",
       "    <tr>\n",
       "      <th>249</th>\n",
       "      <td>2021-06-29</td>\n",
       "      <td>135.425</td>\n",
       "      <td>134.76</td>\n",
       "      <td>136.49</td>\n",
       "      <td>134.36</td>\n",
       "      <td>136.33</td>\n",
       "      <td>3.504.171</td>\n",
       "    </tr>\n",
       "    <tr>\n",
       "      <th>250</th>\n",
       "      <td>2021-06-30</td>\n",
       "      <td>136.640</td>\n",
       "      <td>136.17</td>\n",
       "      <td>137.40</td>\n",
       "      <td>135.88</td>\n",
       "      <td>136.92</td>\n",
       "      <td>3.342.377</td>\n",
       "    </tr>\n",
       "    <tr>\n",
       "      <th>251</th>\n",
       "      <td>2021-07-01</td>\n",
       "      <td>136.545</td>\n",
       "      <td>136.56</td>\n",
       "      <td>137.32</td>\n",
       "      <td>135.77</td>\n",
       "      <td>137.26</td>\n",
       "      <td>2.982.095</td>\n",
       "    </tr>\n",
       "    <tr>\n",
       "      <th>252</th>\n",
       "      <td>2021-07-02</td>\n",
       "      <td>138.875</td>\n",
       "      <td>137.94</td>\n",
       "      <td>140.00</td>\n",
       "      <td>137.75</td>\n",
       "      <td>139.96</td>\n",
       "      <td>4.893.574</td>\n",
       "    </tr>\n",
       "  </tbody>\n",
       "</table>\n",
       "<p>253 rows × 7 columns</p>\n",
       "</div>"
      ],
      "text/plain": [
       "        <DATE>  mid_prices  <OPEN>  <HIGH>   <LOW>  <CLOSE>      <VOL>\n",
       "0   2020-07-02     367.095  367.76  370.46  363.73   364.12  1.567.926\n",
       "1   2020-07-06     372.825  369.93  375.78  369.87   373.81  1.399.249\n",
       "2   2020-07-07     375.415  375.61  378.60  372.23   372.64  1.474.101\n",
       "3   2020-07-08     378.940  376.75  381.46  376.42   381.29  1.484.935\n",
       "4   2020-07-09     381.925  385.09  385.16  378.69   382.59  1.715.059\n",
       "..         ...         ...     ...     ...     ...      ...        ...\n",
       "248 2021-06-28     134.305  133.42  135.24  133.37   134.74  3.187.628\n",
       "249 2021-06-29     135.425  134.76  136.49  134.36   136.33  3.504.171\n",
       "250 2021-06-30     136.640  136.17  137.40  135.88   136.92  3.342.377\n",
       "251 2021-07-01     136.545  136.56  137.32  135.77   137.26  2.982.095\n",
       "252 2021-07-02     138.875  137.94  140.00  137.75   139.96  4.893.574\n",
       "\n",
       "[253 rows x 7 columns]"
      ]
     },
     "execution_count": 21,
     "metadata": {},
     "output_type": "execute_result"
    }
   ],
   "source": [
    "df_test = pd.read_csv('C:/Users/User/Downloads/test.csv', sep=';')\n",
    "df_test['<DATE>'] = pd.to_datetime(df_test['<DATE>'], format='%y%m%d')\n",
    "df_test['mid_prices'] = (df_test['<HIGH>'] + df_test['<LOW>']) / 2.0\n",
    "df_test = df_test[['<DATE>', 'mid_prices', '<OPEN>', '<HIGH>', '<LOW>', '<CLOSE>', '<VOL>']]\n",
    "df_test"
   ]
  },
  {
   "cell_type": "code",
   "execution_count": 22,
   "id": "359bc1b6",
   "metadata": {},
   "outputs": [],
   "source": [
    "test_processed = df_test.iloc[:, 1:2].values"
   ]
  },
  {
   "cell_type": "raw",
   "id": "6688a095",
   "metadata": {},
   "source": [
    "объединим обучающие данные и тестовые данные перед обработкой"
   ]
  },
  {
   "cell_type": "code",
   "execution_count": 23,
   "id": "a0eb6dce",
   "metadata": {},
   "outputs": [],
   "source": [
    "apple_total = pd.concat((df_train['mid_prices'], df_test['mid_prices']), axis=0)"
   ]
  },
  {
   "cell_type": "code",
   "execution_count": 24,
   "id": "53071a89",
   "metadata": {},
   "outputs": [],
   "source": [
    "test_inputs = apple_total[len(apple_total) - len(df_test) - 60:].values"
   ]
  },
  {
   "cell_type": "code",
   "execution_count": 25,
   "id": "83a3cea7",
   "metadata": {},
   "outputs": [
    {
     "data": {
      "text/plain": [
       "0      249.010\n",
       "1      247.065\n",
       "2      249.480\n",
       "3      254.260\n",
       "4      258.895\n",
       "        ...   \n",
       "248    134.305\n",
       "249    135.425\n",
       "250    136.640\n",
       "251    136.545\n",
       "252    138.875\n",
       "Name: mid_prices, Length: 2770, dtype: float64"
      ]
     },
     "execution_count": 25,
     "metadata": {},
     "output_type": "execute_result"
    }
   ],
   "source": [
    "apple_total"
   ]
  },
  {
   "cell_type": "code",
   "execution_count": 26,
   "id": "b8d95c91",
   "metadata": {},
   "outputs": [
    {
     "data": {
      "text/html": [
       "<div>\n",
       "<style scoped>\n",
       "    .dataframe tbody tr th:only-of-type {\n",
       "        vertical-align: middle;\n",
       "    }\n",
       "\n",
       "    .dataframe tbody tr th {\n",
       "        vertical-align: top;\n",
       "    }\n",
       "\n",
       "    .dataframe thead th {\n",
       "        text-align: right;\n",
       "    }\n",
       "</style>\n",
       "<table border=\"1\" class=\"dataframe\">\n",
       "  <thead>\n",
       "    <tr style=\"text-align: right;\">\n",
       "      <th></th>\n",
       "      <th>&lt;DATE&gt;</th>\n",
       "      <th>mid_prices</th>\n",
       "      <th>&lt;OPEN&gt;</th>\n",
       "      <th>&lt;HIGH&gt;</th>\n",
       "      <th>&lt;LOW&gt;</th>\n",
       "      <th>&lt;CLOSE&gt;</th>\n",
       "      <th>&lt;VOL&gt;</th>\n",
       "    </tr>\n",
       "  </thead>\n",
       "  <tbody>\n",
       "    <tr>\n",
       "      <th>0</th>\n",
       "      <td>2020-07-02</td>\n",
       "      <td>367.095</td>\n",
       "      <td>367.76</td>\n",
       "      <td>370.46</td>\n",
       "      <td>363.73</td>\n",
       "      <td>364.12</td>\n",
       "      <td>1.567.926</td>\n",
       "    </tr>\n",
       "    <tr>\n",
       "      <th>1</th>\n",
       "      <td>2020-07-06</td>\n",
       "      <td>372.825</td>\n",
       "      <td>369.93</td>\n",
       "      <td>375.78</td>\n",
       "      <td>369.87</td>\n",
       "      <td>373.81</td>\n",
       "      <td>1.399.249</td>\n",
       "    </tr>\n",
       "    <tr>\n",
       "      <th>2</th>\n",
       "      <td>2020-07-07</td>\n",
       "      <td>375.415</td>\n",
       "      <td>375.61</td>\n",
       "      <td>378.60</td>\n",
       "      <td>372.23</td>\n",
       "      <td>372.64</td>\n",
       "      <td>1.474.101</td>\n",
       "    </tr>\n",
       "    <tr>\n",
       "      <th>3</th>\n",
       "      <td>2020-07-08</td>\n",
       "      <td>378.940</td>\n",
       "      <td>376.75</td>\n",
       "      <td>381.46</td>\n",
       "      <td>376.42</td>\n",
       "      <td>381.29</td>\n",
       "      <td>1.484.935</td>\n",
       "    </tr>\n",
       "    <tr>\n",
       "      <th>4</th>\n",
       "      <td>2020-07-09</td>\n",
       "      <td>381.925</td>\n",
       "      <td>385.09</td>\n",
       "      <td>385.16</td>\n",
       "      <td>378.69</td>\n",
       "      <td>382.59</td>\n",
       "      <td>1.715.059</td>\n",
       "    </tr>\n",
       "    <tr>\n",
       "      <th>...</th>\n",
       "      <td>...</td>\n",
       "      <td>...</td>\n",
       "      <td>...</td>\n",
       "      <td>...</td>\n",
       "      <td>...</td>\n",
       "      <td>...</td>\n",
       "      <td>...</td>\n",
       "    </tr>\n",
       "    <tr>\n",
       "      <th>248</th>\n",
       "      <td>2021-06-28</td>\n",
       "      <td>134.305</td>\n",
       "      <td>133.42</td>\n",
       "      <td>135.24</td>\n",
       "      <td>133.37</td>\n",
       "      <td>134.74</td>\n",
       "      <td>3.187.628</td>\n",
       "    </tr>\n",
       "    <tr>\n",
       "      <th>249</th>\n",
       "      <td>2021-06-29</td>\n",
       "      <td>135.425</td>\n",
       "      <td>134.76</td>\n",
       "      <td>136.49</td>\n",
       "      <td>134.36</td>\n",
       "      <td>136.33</td>\n",
       "      <td>3.504.171</td>\n",
       "    </tr>\n",
       "    <tr>\n",
       "      <th>250</th>\n",
       "      <td>2021-06-30</td>\n",
       "      <td>136.640</td>\n",
       "      <td>136.17</td>\n",
       "      <td>137.40</td>\n",
       "      <td>135.88</td>\n",
       "      <td>136.92</td>\n",
       "      <td>3.342.377</td>\n",
       "    </tr>\n",
       "    <tr>\n",
       "      <th>251</th>\n",
       "      <td>2021-07-01</td>\n",
       "      <td>136.545</td>\n",
       "      <td>136.56</td>\n",
       "      <td>137.32</td>\n",
       "      <td>135.77</td>\n",
       "      <td>137.26</td>\n",
       "      <td>2.982.095</td>\n",
       "    </tr>\n",
       "    <tr>\n",
       "      <th>252</th>\n",
       "      <td>2021-07-02</td>\n",
       "      <td>138.875</td>\n",
       "      <td>137.94</td>\n",
       "      <td>140.00</td>\n",
       "      <td>137.75</td>\n",
       "      <td>139.96</td>\n",
       "      <td>4.893.574</td>\n",
       "    </tr>\n",
       "  </tbody>\n",
       "</table>\n",
       "<p>253 rows × 7 columns</p>\n",
       "</div>"
      ],
      "text/plain": [
       "        <DATE>  mid_prices  <OPEN>  <HIGH>   <LOW>  <CLOSE>      <VOL>\n",
       "0   2020-07-02     367.095  367.76  370.46  363.73   364.12  1.567.926\n",
       "1   2020-07-06     372.825  369.93  375.78  369.87   373.81  1.399.249\n",
       "2   2020-07-07     375.415  375.61  378.60  372.23   372.64  1.474.101\n",
       "3   2020-07-08     378.940  376.75  381.46  376.42   381.29  1.484.935\n",
       "4   2020-07-09     381.925  385.09  385.16  378.69   382.59  1.715.059\n",
       "..         ...         ...     ...     ...     ...      ...        ...\n",
       "248 2021-06-28     134.305  133.42  135.24  133.37   134.74  3.187.628\n",
       "249 2021-06-29     135.425  134.76  136.49  134.36   136.33  3.504.171\n",
       "250 2021-06-30     136.640  136.17  137.40  135.88   136.92  3.342.377\n",
       "251 2021-07-01     136.545  136.56  137.32  135.77   137.26  2.982.095\n",
       "252 2021-07-02     138.875  137.94  140.00  137.75   139.96  4.893.574\n",
       "\n",
       "[253 rows x 7 columns]"
      ]
     },
     "execution_count": 26,
     "metadata": {},
     "output_type": "execute_result"
    }
   ],
   "source": [
    "df_test"
   ]
  },
  {
   "cell_type": "code",
   "execution_count": 27,
   "id": "f77fedae",
   "metadata": {},
   "outputs": [
    {
     "data": {
      "text/plain": [
       "array([265.345 , 264.3   , 267.38  , 269.715 , 283.05  , 283.465 ,\n",
       "       285.27  , 281.905 , 269.46  , 275.05  , 278.305 , 280.    ,\n",
       "       282.24  , 282.005 , 286.785 , 291.45  , 292.425 , 290.005 ,\n",
       "       297.735 , 301.055 , 303.585 , 307.295 , 312.145 , 315.31  ,\n",
       "       309.6   , 305.685 , 304.09  , 313.415 , 315.76  , 317.87  ,\n",
       "       318.38  , 317.275 , 320.35  , 315.875 , 319.565 , 318.815 ,\n",
       "       319.79  , 321.185 , 324.16  , 323.205 , 327.525 , 330.465 ,\n",
       "       338.805 , 350.43  , 343.26  , 341.025 , 338.79  , 348.985 ,\n",
       "       353.27  , 351.335 , 350.855 , 355.335 , 367.34  , 363.635 ,\n",
       "       361.3   , 359.16  , 356.715 , 362.99  , 365.635 , 367.095 ,\n",
       "       367.095 , 372.825 , 375.415 , 378.94  , 381.925 , 381.36  ,\n",
       "       390.425 , 382.255 , 391.49  , 386.61  , 385.945 , 389.105 ,\n",
       "       391.895 , 389.145 , 378.17  , 364.42  , 376.775 , 375.59  ,\n",
       "       378.025 , 380.11  , 414.485 , 439.045 , 438.335 , 438.58  ,\n",
       "       448.995 , 447.575 , 447.545 , 443.165 , 447.15  , 459.945 ,\n",
       "       456.075 , 460.09  , 460.05  , 465.545 , 468.28  , 488.235 ,\n",
       "       505.455 , 496.48  , 504.18  , 502.65  , 502.0475, 128.675 ,\n",
       "       132.66  , 132.47  , 124.665 , 117.29  , 115.83  , 117.22  ,\n",
       "       116.495 , 112.625 , 114.36  , 116.2   , 114.025 , 110.47  ,\n",
       "       108.475 , 106.64  , 111.015 , 109.44  , 107.62  , 110.065 ,\n",
       "       114.045 , 114.44  , 115.45  , 116.77  , 113.8   , 115.105 ,\n",
       "       114.18  , 114.815 , 115.5   , 115.96  , 122.24  , 122.545 ,\n",
       "       121.32  , 119.675 , 120.175 , 118.035 , 117.315 , 117.6   ,\n",
       "       116.315 , 115.42  , 114.715 , 115.905 , 113.29  , 114.57  ,\n",
       "       109.86  , 108.995 , 110.095 , 113.97  , 118.25  , 117.66  ,\n",
       "       119.025 , 115.86  , 118.045 , 119.55  , 118.775 , 119.585 ,\n",
       "       119.815 , 118.905 , 117.92  , 118.03  , 115.6875, 114.22  ,\n",
       "       115.965 , 116.85  , 118.89  , 121.7375, 122.13  , 123.005 ,\n",
       "       122.19  , 123.41  , 124.035 , 123.51  , 122.015 , 121.6525,\n",
       "       122.445 , 126.02  , 127.465 , 128.8   , 127.5975, 125.88  ,\n",
       "       132.03  , 131.595 , 132.28  , 135.43  , 136.57  , 134.695 ,\n",
       "       133.2225, 130.185 , 130.09  , 128.715 , 129.75  , 131.42  ,\n",
       "       129.33  , 128.28  , 129.975 , 129.89  , 128.61  , 127.82  ,\n",
       "       130.525 , 135.46  , 137.435 , 140.84  , 142.845 , 142.355 ,\n",
       "       139.34  , 133.47  , 133.155 , 135.45  , 134.645 , 136.    ,\n",
       "       136.635 , 135.95  , 136.865 , 135.7   , 135.085 , 134.61  ,\n",
       "       134.41  , 130.84  , 128.7   , 129.75  , 127.66  , 122.5525,\n",
       "       123.895 , 123.4975, 123.055 , 125.37  , 126.865 , 123.78  ,\n",
       "       121.115 , 119.75  , 118.605 , 120.43  , 120.815 , 122.23  ,\n",
       "       120.16  , 122.22  , 125.965 , 124.095 , 121.75  , 120.555 ,\n",
       "       122.075 , 123.195 , 121.475 , 120.33  , 120.205 , 121.6525,\n",
       "       119.635 , 122.34  , 123.34  , 124.62  , 126.385 , 126.535 ,\n",
       "       129.455 , 131.235 , 131.745 , 133.295 , 133.33  , 134.325 ,\n",
       "       133.965 , 134.405 , 133.675 , 132.525 , 132.785 , 133.64  ,\n",
       "       134.31  , 134.74  , 134.05  , 134.77  , 132.32  , 132.945 ,\n",
       "       129.09  , 129.205 , 128.44  , 130.365 , 128.165 , 124.525 ,\n",
       "       123.45  , 125.205 , 126.865 , 126.045 , 125.88  , 123.885 ,\n",
       "       126.405 , 126.61  , 126.935 , 127.3225, 126.905 , 126.455 ,\n",
       "       125.165 , 124.645 , 124.64  , 123.995 , 125.005 , 125.575 ,\n",
       "       127.345 , 127.135 , 127.065 , 126.77  , 128.78  , 129.9925,\n",
       "       129.68  , 131.095 , 130.875 , 130.81  , 132.855 , 133.7725,\n",
       "       133.78  , 133.345 , 134.305 , 135.425 , 136.64  , 136.545 ,\n",
       "       138.875 ])"
      ]
     },
     "execution_count": 27,
     "metadata": {},
     "output_type": "execute_result"
    }
   ],
   "source": [
    "test_inputs"
   ]
  },
  {
   "cell_type": "code",
   "execution_count": 28,
   "id": "5752e95d",
   "metadata": {},
   "outputs": [],
   "source": [
    "test_inputs = test_inputs.reshape(-1,1)\n",
    "test_inputs = scaler.transform(test_inputs)"
   ]
  },
  {
   "cell_type": "code",
   "execution_count": 29,
   "id": "f6eb7239",
   "metadata": {},
   "outputs": [],
   "source": [
    "test_features = []\n",
    "for i in range(60, len(test_inputs)):\n",
    "    test_features.append(test_inputs[i-60:i, 0])"
   ]
  },
  {
   "cell_type": "code",
   "execution_count": 30,
   "id": "156a6b5d",
   "metadata": {},
   "outputs": [],
   "source": [
    "test_features = np.array(test_features)\n",
    "test_features = np.reshape(test_features, (test_features.shape[0], test_features.shape[1], 1))"
   ]
  },
  {
   "cell_type": "raw",
   "id": "f0af7d50",
   "metadata": {},
   "source": [
    "прогнозирование и затем вернем значения к фактическим"
   ]
  },
  {
   "cell_type": "code",
   "execution_count": 31,
   "id": "5ff232ca",
   "metadata": {},
   "outputs": [],
   "source": [
    "predictions = model.predict(test_features)\n",
    "predictions = scaler.inverse_transform(predictions)"
   ]
  },
  {
   "cell_type": "raw",
   "id": "43c86f4b",
   "metadata": {},
   "source": [
    "график для наглядного сравнения"
   ]
  },
  {
   "cell_type": "code",
   "execution_count": 32,
   "id": "708fbdd7",
   "metadata": {},
   "outputs": [
    {
     "data": {
      "image/png": "[encoded data removed]",
      "text/plain": [
       "<Figure size 1080x720 with 1 Axes>"
      ]
     },
     "metadata": {
      "needs_background": "light"
     },
     "output_type": "display_data"
    }
   ],
   "source": [
    "plt.figure(figsize=(15,10))\n",
    "plt.plot(test_processed, color='blue', label='Actual Price')\n",
    "plt.plot(predictions , color='red', label='Predicted Price')\n",
    "plt.title('Open Price Prediction')\n",
    "plt.xlabel('Date')\n",
    "plt.ylabel('Open Price')\n",
    "plt.legend()\n",
    "plt.show()"
   ]
  },
  {
   "cell_type": "code",
   "execution_count": null,
   "id": "0bd61d31",
   "metadata": {},
   "outputs": [],
   "source": []
  }
 ],
 "metadata": {
  "kernelspec": {
   "display_name": "Python 3",
   "language": "python",
   "name": "python3"
  },
  "language_info": {
   "codemirror_mode": {
    "name": "ipython",
    "version": 3
   },
   "file_extension": ".py",
   "mimetype": "text/x-python",
   "name": "python",
   "nbconvert_exporter": "python",
   "pygments_lexer": "ipython3",
   "version": "3.8.8"
  }
 },
 "nbformat": 4,
 "nbformat_minor": 5
}
